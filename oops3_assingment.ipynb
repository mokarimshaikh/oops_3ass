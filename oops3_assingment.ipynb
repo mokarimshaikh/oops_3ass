{
 "cells": [
  {
   "cell_type": "code",
   "execution_count": 1,
   "id": "9c106de7-7f30-4169-955d-60918382ad40",
   "metadata": {},
   "outputs": [],
   "source": [
    "# Q .1\n",
    "\n"
   ]
  },
  {
   "cell_type": "code",
   "execution_count": null,
   "id": "e1c9b56b-a572-4b5b-a79d-9ee4c7b11bc7",
   "metadata": {},
   "outputs": [],
   "source": [
    "# ans 1)\n",
    "'''In python the open() function allows you to open a file for various operation and it takes two main arguments\n",
    "the file name(includind the path ) & the mode in which you want the open the file'''\n",
    "# here are a differnt mode to openinng a file\n",
    "\n",
    "\n",
    "''' 1.Read Mode ('r'):\n",
    "\n",
    "Syntax: open('filename', 'r')\n",
    "This mode is used for reading the contents of a file. You can only read from the file, and attempting to write to it will result in an error.\n",
    "Example: file = open('example.txt', 'r')\n",
    "\n",
    "2.Write Mode ('w'):\n",
    "\n",
    "Syntax: open('filename', 'w')\n",
    "This mode is used for writing data to a file. If the file already exists, it will be truncated (its contents will be deleted) before writing new data. If the file doesn't exist, a new file will be created.\n",
    "Example: file = open('example.txt', 'w')\n",
    "\n",
    "3.Append Mode ('a'):\n",
    "\n",
    "Syntax: open('filename', 'a')\n",
    "This mode is used for appending data to the end of an existing file. If the file doesn't exist, a new file will be created.\n",
    "Example: file = open('example.txt', 'a')\n",
    "\n",
    "4.Binary Read Mode ('rb'):\n",
    "\n",
    "Syntax: open('filename', 'rb')\n",
    "Similar to the 'r' mode, but it is used for reading binary data from a file, such as images, audio, or any non-text files.\n",
    "Example: file = open('example.jpg', 'rb')\n",
    "\n",
    "5.Binary Write Mode ('wb'):\n",
    "\n",
    "Syntax: open('filename', 'wb')\n",
    "Similar to the 'w' mode, but it is used for writing binary data to a file.\n",
    "Example: file = open('example.jpg', 'wb')\n",
    "\n",
    "6.Binary Append Mode ('ab'):\n",
    "\n",
    "Syntax: open('filename', 'ab')\n",
    "Similar to the 'a' mode, but it is used for appending binary data to the end of an existing file.\n",
    "Example: file = open('example.jpg', 'ab')\n",
    "\n",
    "7.Text Read Mode with Encoding ('r', 'w', 'a' with 't' or 'rt', 'wt', 'at'):\n",
    "\n",
    "By default, when you open a file in text mode (without specifying 't' or 'b'), it's in text mode. For example, 'r' is equivalent to 'rt', and 'w' is equivalent to 'wt'.\n",
    "You can specify an encoding, such as 'utf-8', to read or write text data in a specific character encoding.\n",
    "Example: file = open('example.txt', 'rt', encoding='utf-8')'''\n",
    "\n"
   ]
  },
  {
   "cell_type": "code",
   "execution_count": 2,
   "id": "5b69565e-6a4e-4884-9c10-15a7d0bd60a0",
   "metadata": {},
   "outputs": [],
   "source": [
    "# Q . 2\n"
   ]
  },
  {
   "cell_type": "code",
   "execution_count": null,
   "id": "605eee4b-9fec-4d87-a725-03d8bf2eee18",
   "metadata": {},
   "outputs": [],
   "source": [
    "'''The close() function is used to close a file. It's important because:\n",
    "\n",
    "1.Resource Management: Closing releases resources.\n",
    "2.Data Integrity: Ensures data is saved.\n",
    "3.Concurrency: Prevents conflicts.\n",
    "4.Platform Compatibility: Avoids system limits.'''\n"
   ]
  },
  {
   "cell_type": "code",
   "execution_count": 3,
   "id": "8898e1a5-a265-4610-94e3-dd689551ee8d",
   "metadata": {},
   "outputs": [],
   "source": [
    "# Q . 3\n"
   ]
  },
  {
   "cell_type": "code",
   "execution_count": 3,
   "id": "e2ebe475-10b2-492f-8a94-ede2b29ce6c4",
   "metadata": {},
   "outputs": [],
   "source": [
    "text = \"I want to become a data scintiste\""
   ]
  },
  {
   "cell_type": "code",
   "execution_count": 4,
   "id": "3e2fd86f-a2a7-4c26-8668-80edf558e861",
   "metadata": {},
   "outputs": [],
   "source": [
    "with open(\"data_sci.txt\" , \"w\") as f :\n",
    "    f.write(text)"
   ]
  },
  {
   "cell_type": "code",
   "execution_count": 7,
   "id": "23761f2b-40c7-4572-a254-9ba045fab222",
   "metadata": {},
   "outputs": [],
   "source": [
    "f.close()"
   ]
  },
  {
   "cell_type": "code",
   "execution_count": 11,
   "id": "b2a308c6-58a3-4153-b5b8-4c2f2a387be8",
   "metadata": {},
   "outputs": [
    {
     "name": "stdout",
     "output_type": "stream",
     "text": [
      "I want to become a data scintiste\n"
     ]
    }
   ],
   "source": [
    "with open(\"data_sci.txt\" , \"r\") as f :\n",
    "    print(f.read())"
   ]
  },
  {
   "cell_type": "code",
   "execution_count": 12,
   "id": "d6d6410e-fbba-46ad-a3ad-e6c99ec07f22",
   "metadata": {},
   "outputs": [],
   "source": [
    "f.close()"
   ]
  },
  {
   "cell_type": "code",
   "execution_count": 13,
   "id": "71220870-5768-4197-bbfe-e53aa5f7c373",
   "metadata": {},
   "outputs": [],
   "source": [
    "# Q .4\n"
   ]
  },
  {
   "cell_type": "code",
   "execution_count": 39,
   "id": "d96732db-4839-44a5-a68b-bcd0cdf99785",
   "metadata": {},
   "outputs": [],
   "source": [
    "file = \"hii !! my name is mokarim shaikh ! i'm from koilari azamgarh! i'm a student of bsc(bio) !\\n and also i learn data_scintist course on pwskills platform \\ni hope i want to become a succesful data scintist\""
   ]
  },
  {
   "cell_type": "code",
   "execution_count": 40,
   "id": "878b4a55-d617-4e4e-ae54-c5be98791afd",
   "metadata": {},
   "outputs": [
    {
     "data": {
      "text/plain": [
       "\"hii !! my name is mokarim shaikh ! i'm from koilari azamgarh! i'm a student of bsc(bio) !\\n and also i learn data_scintist course on pwskills platform \\ni hope i want to become a succesful data scintist\""
      ]
     },
     "execution_count": 40,
     "metadata": {},
     "output_type": "execute_result"
    }
   ],
   "source": [
    "# read\n",
    "\n",
    "f = open(\"read.txt\" , \"w\")\n",
    "f.write(file)\n",
    "\n",
    "f.close()\n",
    "\n",
    "f = open(\"read.txt\" , \"r\")\n",
    "f.read()"
   ]
  },
  {
   "cell_type": "code",
   "execution_count": 41,
   "id": "8679bdbb-66e6-4136-84af-5bae6c154aad",
   "metadata": {},
   "outputs": [
    {
     "data": {
      "text/plain": [
       "'hii !! my '"
      ]
     },
     "execution_count": 41,
     "metadata": {},
     "output_type": "execute_result"
    }
   ],
   "source": [
    "f.seek(0)\n",
    "f.read(10)"
   ]
  },
  {
   "cell_type": "code",
   "execution_count": 42,
   "id": "78417b67-522d-48bc-9c13-e45b59ad6aef",
   "metadata": {},
   "outputs": [
    {
     "data": {
      "text/plain": [
       "' and also i learn data_scintist course on pwskills platform \\n'"
      ]
     },
     "execution_count": 42,
     "metadata": {},
     "output_type": "execute_result"
    }
   ],
   "source": [
    "# readline\n",
    "f = open(\"read.txt\" , \"r\")\n",
    "f.readline()\n",
    "f.readline()"
   ]
  },
  {
   "cell_type": "code",
   "execution_count": 45,
   "id": "632bf094-2b5f-4865-b349-e300267eaa29",
   "metadata": {},
   "outputs": [
    {
     "name": "stdout",
     "output_type": "stream",
     "text": [
      "[\"hii !! my name is mokarim shaikh ! i'm from koilari azamgarh! i'm a student of bsc(bio) !\\n\", ' and also i learn data_scintist course on pwskills platform \\n', 'i hope i want to become a succesful data scintist']\n"
     ]
    }
   ],
   "source": [
    "# readlines\n",
    "\n",
    "with open(\"read.txt\" , \"r\") as f :\n",
    "    f.seek(0)\n",
    "    print(f.readlines())"
   ]
  },
  {
   "cell_type": "code",
   "execution_count": 46,
   "id": "ed2079e7-87ba-4b6a-85c3-4c1022a50a6c",
   "metadata": {},
   "outputs": [],
   "source": [
    " # Q .5\n",
    "    "
   ]
  },
  {
   "cell_type": "code",
   "execution_count": 50,
   "id": "32fa4727-d9ea-4638-8424-52646e612223",
   "metadata": {},
   "outputs": [
    {
     "data": {
      "text/plain": [
       "'with open(\"example.txt\" , \"r\") as f :\\n    data = file.read()'"
      ]
     },
     "execution_count": 50,
     "metadata": {},
     "output_type": "execute_result"
    }
   ],
   "source": [
    "\"\"\"The 'with' statment is used whth the 'open()' function in python to ensure proper handling of files\\n\n",
    "it creates a context where the file is automatically closed when you're done with it .\"\"\"\n",
    "\"\"\"The advantage of using them together is related to file handling and resource management\n",
    "Aoutomatic resource management : when you use with open(...)as.. python ensure that the file is properly open and more importantly\\n\n",
    "automatically closed when you're done with it \n",
    "Clean and readable code : the with statment makes your code more concise and readable.and clearly define the scope in which the file is used .\n",
    "and  you don't need to explicitly call 'file.close()' \"\"\"\n",
    "\n",
    "# example\n",
    "'''file = open(\"example.txt\" , \"r\")\n",
    "data = file.read()\n",
    "file.close()'''\n",
    "\n",
    "'''with open(\"example.txt\" , \"r\") as f :\n",
    "    data = file.read()'''\n",
    "    # File is automatically closed when the block is exited"
   ]
  },
  {
   "cell_type": "code",
   "execution_count": 1,
   "id": "81a5df37-3196-4c12-a8ec-5615d6c98ca1",
   "metadata": {},
   "outputs": [],
   "source": [
    "# Q6. Explain the write() and writelines() functions. Give a suitable example.\n"
   ]
  },
  {
   "cell_type": "code",
   "execution_count": 3,
   "id": "71f12239-b63e-4243-aa0f-e9fe2e398708",
   "metadata": {},
   "outputs": [],
   "source": [
    "# write()\n",
    "\n",
    "\n",
    "#In python the write() function is a built_in function that allows you to write data \n",
    "#to a file.this function takes a string as input and write it to the specified file.\n",
    "\n",
    "with open(\"write.txt\" , \"w\") as a :\n",
    "    a.write(\"this is a first line\\n\")\n",
    "    a.write(\"this is a second line\")\n",
    "\n"
   ]
  },
  {
   "cell_type": "code",
   "execution_count": 7,
   "id": "87839ed4-585a-4082-9521-299d6e91f2dd",
   "metadata": {},
   "outputs": [
    {
     "name": "stdout",
     "output_type": "stream",
     "text": [
      "hii my name is abdul mokarim\n",
      " And i am from uttarpardesh\n",
      "This is my writelines function\n",
      "\n"
     ]
    }
   ],
   "source": [
    "# writeline()\n",
    "\n",
    "# The writeline() method writes the items of a list to the file. Where the text will be inserted\n",
    "# depend on the file mode and stream position\n",
    "\n",
    "with open(\"write.txt\" , \"w\") as a :\n",
    "    a.writelines([\"hii my name is abdul mokarim\" , \"\\n And i am from uttarpardesh\" , \"\\nThis is my writelines function\\n\"])\n",
    "    \n",
    "with open(\"write.txt\" , \"r\") as a :\n",
    "    print(a.read())"
   ]
  },
  {
   "cell_type": "code",
   "execution_count": null,
   "id": "bf331f31-6c29-4a8c-b704-fc075aad46be",
   "metadata": {},
   "outputs": [],
   "source": [
    "print(***)"
   ]
  }
 ],
 "metadata": {
  "kernelspec": {
   "display_name": "Python 3 (ipykernel)",
   "language": "python",
   "name": "python3"
  },
  "language_info": {
   "codemirror_mode": {
    "name": "ipython",
    "version": 3
   },
   "file_extension": ".py",
   "mimetype": "text/x-python",
   "name": "python",
   "nbconvert_exporter": "python",
   "pygments_lexer": "ipython3",
   "version": "3.10.8"
  }
 },
 "nbformat": 4,
 "nbformat_minor": 5
}
